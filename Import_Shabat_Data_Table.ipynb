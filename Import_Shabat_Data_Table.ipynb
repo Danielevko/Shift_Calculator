{
 "cells": [
  {
   "cell_type": "markdown",
   "metadata": {},
   "source": [
    "# Extracting table script"
   ]
  },
  {
   "cell_type": "markdown",
   "metadata": {},
   "source": [
    "### The imports"
   ]
  },
  {
   "cell_type": "code",
   "execution_count": null,
   "metadata": {},
   "outputs": [],
   "source": [
    "import requests\n",
    "from bs4 import BeautifulSoup\n",
    "import datetime"
   ]
  },
  {
   "cell_type": "markdown",
   "metadata": {},
   "source": [
    "### check if the shabat time table contain words either then hebrew (remove all gibberish)"
   ]
  },
  {
   "cell_type": "code",
   "execution_count": 20,
   "metadata": {},
   "outputs": [],
   "source": [
    "def isEnglish(s):\n",
    "    try:\n",
    "        s.encode(encoding='utf-8').decode('ascii')\n",
    "    except UnicodeDecodeError:\n",
    "        return False\n",
    "    else:\n",
    "        return True\n"
   ]
  },
  {
   "cell_type": "markdown",
   "metadata": {},
   "source": [
    "### Change the data to datetime type"
   ]
  },
  {
   "cell_type": "code",
   "execution_count": 21,
   "metadata": {},
   "outputs": [],
   "source": [
    "def fix_date2(shabat):\n",
    "    y = []\n",
    "    counter = 0\n",
    "    for i in shabat:\n",
    "        l1 = [str(y) for y in i[2].split('-')]\n",
    "        y.append(l1)\n",
    "        if len(y[counter][0]) > 2:\n",
    "            day_special, month_special = (int(j) for j in y[counter][0].split('/'))\n",
    "            day2, month, year = (int(j) for j in y[counter][1].split('/'))\n",
    "            born1 = datetime.date(year, month, day2)\n",
    "            born2 = datetime.date(year, month_special, day_special)\n",
    "            shabat[counter][2] = [born1]\n",
    "            shabat[counter][2].append(born2)\n",
    "            counter += 1\n",
    "        else:\n",
    "            day1 = int(l1[0])\n",
    "            day2, month, year = (int(j) for j in y[counter][1].split('/'))\n",
    "            born1 = datetime.date(year, month, day1)\n",
    "            born2 = datetime.date(year, month, day2)\n",
    "            shabat[counter][2] = [born1]\n",
    "            shabat[counter][2].append(born2)\n",
    "            counter += 1\n",
    "## to make the code faster we assume we want only the \"shabat\" info from 2020, 2019 is unnecessary.\n",
    "    shabat = list(filter(lambda x: x[2][0].year != 2019 and x[2][1].year != 2019, shabat))\n",
    "    return shabat"
   ]
  },
  {
   "cell_type": "markdown",
   "metadata": {},
   "source": [
    "### Change the data to timedelta for calculations ."
   ]
  },
  {
   "cell_type": "code",
   "execution_count": 22,
   "metadata": {},
   "outputs": [],
   "source": [
    "def fix_time(shabat):\n",
    "    counter=0\n",
    "    for i in shabat:\n",
    "        start_hour=datetime.timedelta(hours=int(i[1][0:2]),minutes=int(i[1][3:5]))\n",
    "        finish_hour=datetime.timedelta(hours=int(i[0][0:2]),minutes=int(i[0][3:5]))\n",
    "        shabat[counter][0]=start_hour\n",
    "        shabat[counter][1]=finish_hour\n",
    "        counter+=1\n",
    "    return shabat"
   ]
  },
  {
   "cell_type": "markdown",
   "metadata": {},
   "source": [
    "### Clean the data we import with BeautifulSoup"
   ]
  },
  {
   "cell_type": "code",
   "execution_count": 23,
   "metadata": {},
   "outputs": [],
   "source": [
    "def clean_the_data(x):\n",
    "    temp2 = []\n",
    "    shabat=[]\n",
    "    for i in x:\n",
    "        try:\n",
    "            x.remove('')\n",
    "        except:\n",
    "            break\n",
    "\n",
    "    for i in x:\n",
    "        temp = i\n",
    "        for j in i:\n",
    "            if not (j.isdigit() or j == ':' or j == '/' or j == '-') or (not isEnglish(j)):\n",
    "                temp = temp.replace(j, '')\n",
    "        temp2.append(temp)\n",
    "\n",
    "    for i in range(1, len(temp2) - 1):\n",
    "        counter = 1\n",
    "        for j in range(len(temp2[i])):\n",
    "            temp += temp2[i][-counter]\n",
    "            counter += 1\n",
    "            if counter == 6:\n",
    "                shabat.append([temp[::-1]])\n",
    "                temp = ''\n",
    "            if counter == 11:\n",
    "                shabat[i - 1].append(temp[::-1])\n",
    "                temp = ''\n",
    "                temp2[i] = temp2[i].replace(shabat[i - 1][1] + shabat[i - 1][0], '')\n",
    "                shabat[i - 1].append(temp2[i])\n",
    "                break\n",
    "\n",
    "    return shabat"
   ]
  },
  {
   "cell_type": "markdown",
   "metadata": {},
   "source": [
    "### Import the data using BeautifulSoup"
   ]
  },
  {
   "cell_type": "code",
   "execution_count": 2,
   "metadata": {},
   "outputs": [
    {
     "name": "stdout",
     "output_type": "stream",
     "text": [
      "extracting data from website: \" https://calendar.2net.co.il/parasha.aspx \" \n",
      " \n"
     ]
    }
   ],
   "source": [
    "url=\"https://calendar.2net.co.il/parasha.aspx\"\n",
    "print(f\"extracting data from website: \\\" {url} \\\" \\n \")\n",
    "page = requests.get(url)\n",
    "soup = BeautifulSoup(page.content, 'html.parser')\n",
    "content=soup.find(id=\"content_mainTable\")\n",
    "shabat=content.get_text()\n",
    "shabat=shabat.splitlines()"
   ]
  },
  {
   "cell_type": "markdown",
   "metadata": {},
   "source": [
    "#### Using the functions"
   ]
  },
  {
   "cell_type": "code",
   "execution_count": 25,
   "metadata": {},
   "outputs": [],
   "source": [
    "shabat=clean_the_data(shabat)\n",
    "shabat=fix_date2(shabat)\n",
    "shabat=fix_time(shabat)"
   ]
  }
 ],
 "metadata": {
  "kernelspec": {
   "display_name": "Python 3",
   "language": "python",
   "name": "python3"
  },
  "language_info": {
   "codemirror_mode": {
    "name": "ipython",
    "version": 3
   },
   "file_extension": ".py",
   "mimetype": "text/x-python",
   "name": "python",
   "nbconvert_exporter": "python",
   "pygments_lexer": "ipython3",
   "version": "3.8.3"
  }
 },
 "nbformat": 4,
 "nbformat_minor": 4
}
